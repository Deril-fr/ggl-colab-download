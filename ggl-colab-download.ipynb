{
  "nbformat": 4,
  "nbformat_minor": 0,
  "metadata": {
    "colab": {
      "provenance": [],
      "authorship_tag": "ABX9TyPuLVTfV+YuKji0Me/unR2I",
      "include_colab_link": true
    },
    "kernelspec": {
      "name": "python3",
      "display_name": "Python 3"
    },
    "language_info": {
      "name": "python"
    }
  },
  "cells": [
    {
      "cell_type": "markdown",
      "metadata": {
        "id": "view-in-github",
        "colab_type": "text"
      },
      "source": [
        "<a href=\"https://colab.research.google.com/github/Deril-fr/ggl-collab-download/blob/master/ggl-colab-download.ipynb\" target=\"_parent\"><img src=\"https://colab.research.google.com/assets/colab-badge.svg\" alt=\"Open In Colab\"/></a>"
      ]
    },
    {
      "cell_type": "code",
      "execution_count": 1,
      "metadata": {
        "colab": {
          "base_uri": "https://localhost:8080/"
        },
        "id": "vM6ARuhuuLa_",
        "outputId": "b18c68f9-2b78-47ec-cb69-5ce72b5a3fdd",
        "cellView": "form"
      },
      "outputs": [
        {
          "output_type": "stream",
          "name": "stdout",
          "text": [
            "ffmpeg version 5.1.1 Copyright (c) 2000-2022 the FFmpeg developers\n",
            "built with gcc 9 (Ubuntu 9.4.0-1ubuntu1~20.04.1)\n",
            "configuration: --prefix=/home/ffmpeg-builder/release --pkg-config-flags=--static --extra-libs=-lm --disable-doc --disable-htmlpages --disable-manpages --disable-podpages --disable-txtpages --disable-debug --disable-shared --disable-ffprobe --enable-static --enable-gpl --enable-version3 --enable-runtime-cpudetect --enable-avfilter --enable-filters --enable-nvenc --enable-nvdec --enable-cuvid --pkgconfigdir=/home/ffmpeg-builder/release/lib/pkgconfig --extra-cflags='-I/home/ffmpeg-builder/release/include -static -static-libstdc++ -static-libgcc ' --extra-ldflags='-L/home/ffmpeg-builder/release/lib -fstack-protector -static -static-libstdc++ -static-libgcc ' --extra-cxxflags='-static -static-libstdc++ -static-libgcc ' --extra-libs='-ldl -lrt -lpthread' --enable-ffnvcodec --enable-gmp --enable-libaom --enable-libass --enable-libbluray --enable-libdav1d --enable-libfdk-aac --enable-libfontconfig --enable-libfreetype --enable-libfribidi --enable-libgme --enable-libkvazaar --enable-libmp3lame --enable-libopencore_amrnb --enable-libopencore_amrwb --enable-libopenh264 --enable-libopenjpeg --enable-libopus --enable-libshine --enable-libsoxr --enable-libsrt --enable-libsvtav1 --enable-libtheora --enable-libvidstab --ld=g++ --enable-libvmaf --enable-libvorbis --enable-libvpx --enable-libx264 --enable-libx265 --enable-libxvid --enable-libzimg --enable-openssl --enable-zlib --enable-nonfree --extra-libs=-lpthread --enable-pthreads --extra-libs=-lgomp\n",
            "libavutil      57. 28.100 / 57. 28.100\n",
            "libavcodec     59. 37.100 / 59. 37.100\n",
            "libavformat    59. 27.100 / 59. 27.100\n",
            "libavdevice    59.  7.100 / 59.  7.100\n",
            "libavfilter     8. 44.100 /  8. 44.100\n",
            "libswscale      6.  7.100 /  6.  7.100\n",
            "libswresample   4.  7.100 /  4.  7.100\n",
            "libpostproc    56.  6.100 / 56.  6.100\n"
          ]
        }
      ],
      "source": [
        "#@title <font size=\"5\">← ឵឵<i>Install FFMPEG</font> { vertical-output: true }\n",
        "from IPython.display import clear_output\n",
        "\n",
        "!apt install ffmpeg\n",
        "clear_output()\n",
        "!ffmpeg -version"
      ]
    },
    {
      "cell_type": "code",
      "source": [
        "#@title <font size=\"5\">← ឵឵<i>Install libraries...</font> { vertical-output: true }\n",
        "!pip install httpx simple_term_menu nest_asyncio\n"
      ],
      "metadata": {
        "colab": {
          "base_uri": "https://localhost:8080/"
        },
        "id": "zkYjRV9I2GDe",
        "outputId": "d4908679-a39a-43e7-dba8-55a9ac58fdce",
        "cellView": "form"
      },
      "execution_count": 2,
      "outputs": [
        {
          "output_type": "stream",
          "name": "stdout",
          "text": [
            "Looking in indexes: https://pypi.org/simple, https://us-python.pkg.dev/colab-wheels/public/simple/\n",
            "Requirement already satisfied: httpx in /usr/local/lib/python3.10/dist-packages (0.24.0)\n",
            "Requirement already satisfied: simple_term_menu in /usr/local/lib/python3.10/dist-packages (1.6.1)\n",
            "Requirement already satisfied: nest_asyncio in /usr/local/lib/python3.10/dist-packages (1.5.6)\n",
            "Requirement already satisfied: certifi in /usr/local/lib/python3.10/dist-packages (from httpx) (2022.12.7)\n",
            "Requirement already satisfied: httpcore<0.18.0,>=0.15.0 in /usr/local/lib/python3.10/dist-packages (from httpx) (0.17.1)\n",
            "Requirement already satisfied: idna in /usr/local/lib/python3.10/dist-packages (from httpx) (3.4)\n",
            "Requirement already satisfied: sniffio in /usr/local/lib/python3.10/dist-packages (from httpx) (1.3.0)\n",
            "Requirement already satisfied: h11<0.15,>=0.13 in /usr/local/lib/python3.10/dist-packages (from httpcore<0.18.0,>=0.15.0->httpx) (0.14.0)\n",
            "Requirement already satisfied: anyio<5.0,>=3.0 in /usr/local/lib/python3.10/dist-packages (from httpcore<0.18.0,>=0.15.0->httpx) (3.6.2)\n"
          ]
        }
      ]
    },
    {
      "cell_type": "code",
      "source": [
        "#@title <font size=\"5\">← ឵឵<i>Set constants</font> { vertical-output: true }\n",
        "import re\n",
        "\n",
        "PROTOCOL = \"https\"\n",
        "WORKER = \"proxy.ketsuna.com\"\n",
        "BASE_URL = \"neko.ketsuna.com\"\n",
        "\n",
        "VIDEO_REGEX = re.compile(r\"video\\[0\\] = '(.+)';\", re.MULTILINE)\n",
        "M3U8_REGEX = [\n",
        "    re.compile(r'e\\.parseJSON\\(atob\\(t\\).slice\\(2\\)\\)\\}\\(\\\"([^;]*)\"\\),'),\n",
        "    re.compile(r'e\\.parseJSON\\(n\\)}\\(\\\"([^;]*)\"\\),'),\n",
        "    re.compile(r'n=atob\\(\"([^\"]+)\"'),\n",
        "]\n",
        "M3U8_RES = re.compile(r\"#EXT-X-STREAM-INF:.+RESOLUTION=(\\d+x\\d+).+\")\n",
        "\n",
        "URL_PARTS = re.compile(r\"https://[\\w\\-.]+/anime/(?P<lang>vostfr|vf)/(?P<id>\\d+)/episode/(?P<nb>\\d+)\")"
      ],
      "metadata": {
        "id": "34P8D_eN20x5"
      },
      "execution_count": 3,
      "outputs": []
    },
    {
      "cell_type": "code",
      "source": [
        "#@title <font size=\"5\">← ឵឵<i>Do the magic !</font> { vertical-output: true }\n",
        "\n",
        "import base64\n",
        "import json\n",
        "import os\n",
        "import subprocess\n",
        "from typing import Any, NamedTuple\n",
        "from urllib.parse import urlencode, urlparse, urlunparse\n",
        "\n",
        "import httpx\n",
        "from bs4 import BeautifulSoup\n",
        "\n",
        "client = httpx.AsyncClient()\n",
        "\n",
        "def set_worker(url: str) -> str:\n",
        "    params = urlencode({\"url\": url})\n",
        "    url = urlunparse([PROTOCOL, WORKER, \"/\", \"\", params, \"\"])\n",
        "    return url\n",
        "\n",
        "\n",
        "class Context(NamedTuple):\n",
        "    url: str\n",
        "    subtitles: str | None\n",
        "\n",
        "\n",
        "async def get_m3u8(url: str) -> Context:\n",
        "    match = URL_PARTS.match(url)\n",
        "    if not match:\n",
        "        raise ValueError(\"url is not valid\")\n",
        "    res = await client.get(f\"https://api.ketsuna.com/animes/{match['lang']}/{match['id']}/{match['nb']}\")\n",
        "    raw = res.json()\n",
        "\n",
        "    m3u8 = set_worker(raw[\"videoUri\"])\n",
        "    subtitles = raw[\"videoVtt\"]\n",
        "    return Context(url=m3u8, subtitles=subtitles)\n",
        "\n",
        "\n",
        "async def get_available_qualities(ctx: Context) -> dict[str, str]:\n",
        "    response = await client.get(ctx.url)\n",
        "\n",
        "    if not response.text.startswith(\"#EXTM3U\"):\n",
        "        raise ValueError(\"Not a m3u8 file\")\n",
        "\n",
        "    lines = iter(response.text.splitlines())\n",
        "    next(lines)\n",
        "    qualities: dict[str, str] = {}\n",
        "    for line in lines:\n",
        "        if line.startswith(\"#EXT\"):\n",
        "            if match := M3U8_RES.search(line):\n",
        "                quality = match.group(1)\n",
        "                qualities[quality] = next(lines)\n",
        "    return qualities\n",
        "\n",
        "\n",
        "async def download_form_m3u8(\n",
        "    url: str, output: str\n",
        ") -> tuple[subprocess.Popen[bytes], float]:\n",
        "    filename = os.path.splitext(os.path.basename(output))[0]\n",
        "    if not os.path.exists(\"./tmp\"):\n",
        "        os.mkdir(\"./tmp\")\n",
        "\n",
        "    with open(f\"./tmp/{filename}.m3u8\", \"wb\") as f:\n",
        "        response = await client.get(url)\n",
        "        f.write(response.content)  # worker is already set\n",
        "        total_duration = sum(map(float, re.findall(r\"#EXTINF:([\\d.]+)\", response.text)))\n",
        "\n",
        "    args = [\n",
        "        \"ffmpeg\",\n",
        "        \"-progress\",\n",
        "        \"./tmp/progression.txt\",\n",
        "        \"-y\",  # overwrite output file\n",
        "        \"-protocol_whitelist\",\n",
        "        \"file,http,https,tcp,tls,crypto\",\n",
        "        \"-i\",\n",
        "        f\"./tmp/{filename}.m3u8\",\n",
        "        \"-bsf:a\",\n",
        "        \"aac_adtstoasc\",\n",
        "        \"-c\",\n",
        "        \"copy\",\n",
        "        \"-vcodec\",\n",
        "        \"copy\",\n",
        "        \"-crf\",\n",
        "        \"1\",\n",
        "        output,\n",
        "    ]\n",
        "\n",
        "    process = subprocess.Popen(\n",
        "        args, stdout=subprocess.DEVNULL, stderr=subprocess.DEVNULL\n",
        "    )\n",
        "\n",
        "    return process, total_duration"
      ],
      "metadata": {
        "id": "4teYW6WK0tFB"
      },
      "execution_count": 4,
      "outputs": []
    },
    {
      "cell_type": "code",
      "source": [
        "import asyncio\n",
        "import ipywidgets as widgets\n",
        "from typing import Literal\n",
        "from sys import stdout\n",
        "\n",
        "import nest_asyncio\n",
        "\n",
        "nest_asyncio.apply()\n",
        "\n",
        "def check_progression(file: str) -> float | Literal[\"end\"] | None:\n",
        "    if not os.path.exists(file):\n",
        "        return None\n",
        "    with open(file, \"r\") as f:\n",
        "        # Seek to the end of the file\n",
        "        f.seek(0, 2)\n",
        "        end_pos = f.tell()\n",
        "\n",
        "        def analyze_line(line: str) -> float | Literal[\"end\"] | None:\n",
        "            if line.startswith(\"progress=\") and line.endswith(\"end\"):\n",
        "                return \"end\"\n",
        "            if line.startswith(\"out_time_ms=\"):\n",
        "                return float(line.split(\"=\")[1]) / 1_000_000\n",
        "            return None\n",
        "\n",
        "        line: list[str] = []\n",
        "        for pos in range(end_pos - 1, -1, -1):\n",
        "            f.seek(pos, 0)\n",
        "            char = f.read(1)\n",
        "            if char == \"\\n\":\n",
        "                result = analyze_line(\"\".join(reversed(line)))\n",
        "                if result is not None:\n",
        "                    return result\n",
        "                line = []\n",
        "            else:\n",
        "                line.append(char)\n",
        "\n",
        "\n",
        "async def main():\n",
        "    raw_url = input(\"Episode URL (from deril): \")\n",
        "    ctx = await get_m3u8(raw_url)\n",
        "    qualities = await get_available_qualities(ctx)\n",
        "    options = list(qualities.keys())\n",
        "\n",
        "    while True:\n",
        "        print(\"Please chose a quality:\")\n",
        "        for i, quality in enumerate(qualities.keys()):\n",
        "            print(i, quality)\n",
        "        selection = input()\n",
        "        try:\n",
        "            index = int(selection)\n",
        "        except:\n",
        "            pass\n",
        "        else:\n",
        "            break\n",
        "    \n",
        "    clear_output()\n",
        "    print(\"Your download is about to start...\")\n",
        "    process, duration = await download_form_m3u8(qualities[options[index]], \"episode.mp4\")\n",
        "\n",
        "    while process.poll() is None:\n",
        "        await asyncio.sleep(2)\n",
        "        progression = check_progression(\"./tmp/progression.txt\")\n",
        "        if progression == \"end\":\n",
        "            stdout.write(\"\\rDone.\")\n",
        "        if progression is None or duration is None:\n",
        "            stdout.write(\"\\rIn progress... (no eta)\")\n",
        "        else:\n",
        "            stdout.write(f\"\\rIn progress... ({progression / duration * 100:.2f}%)\")\n",
        "        stdout.flush()\n",
        "\n",
        "    os.remove(f\"./tmp/episode.m3u8\")\n",
        "    os.remove(f\"./tmp/progression.txt\")\n",
        "\n",
        "\n",
        "asyncio.run(main())"
      ],
      "metadata": {
        "colab": {
          "base_uri": "https://localhost:8080/"
        },
        "id": "2S_1Cy_Q7utK",
        "outputId": "27aa8563-af07-4fb6-cb0d-315b1100f30c"
      },
      "execution_count": null,
      "outputs": [
        {
          "output_type": "stream",
          "name": "stdout",
          "text": [
            "Your download is about to start...\n",
            "In progress... (90.86%)"
          ]
        }
      ]
    }
  ]
}