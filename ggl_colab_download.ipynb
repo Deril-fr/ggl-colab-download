{
  "nbformat": 4,
  "nbformat_minor": 0,
  "metadata": {
    "colab": {
      "provenance": [],
      "authorship_tag": "ABX9TyOlxssc4tz9yb+AIhG5GLZD",
      "include_colab_link": true
    },
    "kernelspec": {
      "name": "python3",
      "display_name": "Python 3"
    },
    "language_info": {
      "name": "python"
    }
  },
  "cells": [
    {
      "cell_type": "markdown",
      "metadata": {
        "id": "view-in-github",
        "colab_type": "text"
      },
      "source": [
        "<a href=\"https://colab.research.google.com/github/Deril-fr/ggl-colab-download/blob/master/ggl_colab_download.ipynb\" target=\"_parent\"><img src=\"https://colab.research.google.com/assets/colab-badge.svg\" alt=\"Open In Colab\"/></a>"
      ]
    },
    {
      "cell_type": "code",
      "execution_count": null,
      "metadata": {
        "id": "vM6ARuhuuLa_",
        "cellView": "form",
        "colab": {
          "base_uri": "https://localhost:8080/"
        },
        "outputId": "845c116c-cadc-49e3-f000-e6f09f1774b2"
      },
      "outputs": [
        {
          "output_type": "stream",
          "name": "stdout",
          "text": [
            "ffmpeg version 4.2.7-0ubuntu0.1 Copyright (c) 2000-2022 the FFmpeg developers\n",
            "built with gcc 9 (Ubuntu 9.4.0-1ubuntu1~20.04.1)\n",
            "configuration: --prefix=/usr --extra-version=0ubuntu0.1 --toolchain=hardened --libdir=/usr/lib/x86_64-linux-gnu --incdir=/usr/include/x86_64-linux-gnu --arch=amd64 --enable-gpl --disable-stripping --enable-avresample --disable-filter=resample --enable-avisynth --enable-gnutls --enable-ladspa --enable-libaom --enable-libass --enable-libbluray --enable-libbs2b --enable-libcaca --enable-libcdio --enable-libcodec2 --enable-libflite --enable-libfontconfig --enable-libfreetype --enable-libfribidi --enable-libgme --enable-libgsm --enable-libjack --enable-libmp3lame --enable-libmysofa --enable-libopenjpeg --enable-libopenmpt --enable-libopus --enable-libpulse --enable-librsvg --enable-librubberband --enable-libshine --enable-libsnappy --enable-libsoxr --enable-libspeex --enable-libssh --enable-libtheora --enable-libtwolame --enable-libvidstab --enable-libvorbis --enable-libvpx --enable-libwavpack --enable-libwebp --enable-libx265 --enable-libxml2 --enable-libxvid --enable-libzmq --enable-libzvbi --enable-lv2 --enable-omx --enable-openal --enable-opencl --enable-opengl --enable-sdl2 --enable-libdc1394 --enable-libdrm --enable-libiec61883 --enable-nvenc --enable-chromaprint --enable-frei0r --enable-libx264 --enable-shared\n",
            "libavutil      56. 31.100 / 56. 31.100\n",
            "libavcodec     58. 54.100 / 58. 54.100\n",
            "libavformat    58. 29.100 / 58. 29.100\n",
            "libavdevice    58.  8.100 / 58.  8.100\n",
            "libavfilter     7. 57.100 /  7. 57.100\n",
            "libavresample   4.  0.  0 /  4.  0.  0\n",
            "libswscale      5.  5.100 /  5.  5.100\n",
            "libswresample   3.  5.100 /  3.  5.100\n",
            "libpostproc    55.  5.100 / 55.  5.100\n"
          ]
        }
      ],
      "source": [
        "#@title <font size=\"5\">← ឵឵<i>Install FFMPEG and requirements</font>\n",
        "from IPython.display import clear_output\n",
        "\n",
        "!pip install httpx nest_asyncio\n",
        "!apt install ffmpeg\n",
        "clear_output()\n",
        "!ffmpeg -version"
      ]
    },
    {
      "cell_type": "code",
      "source": [
        "#@title <font size=\"5\">← ឵឵<i>Mount Google Drive</font>\n",
        "\n",
        "from google.colab import drive\n",
        "drive.mount('/content/drive')"
      ],
      "metadata": {
        "colab": {
          "base_uri": "https://localhost:8080/"
        },
        "cellView": "form",
        "id": "_YJST4J2K-pk",
        "outputId": "fe5d2e93-7a53-4266-df31-c38f0a0b01d6"
      },
      "execution_count": null,
      "outputs": [
        {
          "output_type": "stream",
          "name": "stdout",
          "text": [
            "Mounted at /content/drive\n"
          ]
        }
      ]
    },
    {
      "cell_type": "code",
      "source": [
        "#@title <font size=\"5\">← ឵឵<i>core</font>\n",
        "\n",
        "import base64\n",
        "import json\n",
        "import os\n",
        "import re\n",
        "import subprocess\n",
        "from typing import Any, NamedTuple\n",
        "from urllib.parse import urlencode, urlparse, urlunparse\n",
        "\n",
        "import httpx\n",
        "from bs4 import BeautifulSoup\n",
        "\n",
        "PROTOCOL = \"https\"\n",
        "WORKER = \"proxy.ketsuna.com\"\n",
        "BASE_URL = \"neko.ketsuna.com\"\n",
        "\n",
        "VIDEO_REGEX = re.compile(r\"video\\[0\\] = '(.+)';\", re.MULTILINE)\n",
        "M3U8_REGEX = [\n",
        "    re.compile(r'e\\.parseJSON\\(atob\\(t\\).slice\\(2\\)\\)\\}\\(\\\"([^;]*)\"\\),'),\n",
        "    re.compile(r'e\\.parseJSON\\(n\\)}\\(\\\"([^;]*)\"\\),'),\n",
        "    re.compile(r'n=atob\\(\"([^\"]+)\"'),\n",
        "]\n",
        "M3U8_RES = re.compile(r\"#EXT-X-STREAM-INF:.+RESOLUTION=(\\d+x\\d+).+\")\n",
        "\n",
        "URL_PARTS = re.compile(r\"https://[\\w\\-.]+/anime/(?P<lang>vostfr|vf)/(?P<id>\\d+)/episode/(?P<nb>\\d+)\")\n",
        "\n",
        "client = httpx.AsyncClient()\n",
        "\n",
        "def set_worker(url: str) -> str:\n",
        "    params = urlencode({\"url\": url})\n",
        "    url = urlunparse([PROTOCOL, WORKER, \"/\", \"\", params, \"\"])\n",
        "    return url\n",
        "\n",
        "\n",
        "class Context(NamedTuple):\n",
        "    url: str\n",
        "    subtitles: str | None\n",
        "    episode_name: str\n",
        "\n",
        "\n",
        "async def get_m3u8(url: str) -> Context:\n",
        "    match = URL_PARTS.match(url)\n",
        "    if not match:\n",
        "        raise ValueError(\"url is not valid\")\n",
        "    res = await client.get(f\"https://api.ketsuna.com/animes/{match['lang']}/{match['id']}/{match['nb']}\")\n",
        "    raw = res.json()\n",
        "\n",
        "    m3u8 = set_worker(raw[\"videoUri\"])\n",
        "    subtitles = raw[\"videoVtt\"]\n",
        "    return Context(url=m3u8, subtitles=subtitles, episode_name=raw[\"title\"])\n",
        "\n",
        "\n",
        "async def get_available_qualities(ctx: Context) -> dict[str, str]:\n",
        "    response = await client.get(ctx.url)\n",
        "\n",
        "    if not response.text.startswith(\"#EXTM3U\"):\n",
        "        raise ValueError(\"Not a m3u8 file\")\n",
        "\n",
        "    lines = iter(response.text.splitlines())\n",
        "    next(lines)\n",
        "    qualities: dict[str, str] = {}\n",
        "    for line in lines:\n",
        "        if line.startswith(\"#EXT\"):\n",
        "            if match := M3U8_RES.search(line):\n",
        "                quality = match.group(1)\n",
        "                qualities[quality] = next(lines)\n",
        "    return qualities\n",
        "\n",
        "\n",
        "async def download_form_m3u8(\n",
        "    url: str, output: str\n",
        ") -> tuple[subprocess.Popen[bytes], float]:\n",
        "    filename = os.path.splitext(os.path.basename(output))[0]\n",
        "    if not os.path.exists(\"./tmp\"):\n",
        "        os.mkdir(\"./tmp\")\n",
        "\n",
        "    with open(f\"./tmp/{filename}.m3u8\", \"wb\") as f:\n",
        "        response = await client.get(url)\n",
        "        f.write(response.content)  # worker is already set\n",
        "        total_duration = sum(map(float, re.findall(r\"#EXTINF:([\\d.]+)\", response.text)))\n",
        "\n",
        "    args = [\n",
        "        \"ffmpeg\",\n",
        "        \"-progress\",\n",
        "        \"./tmp/progression.txt\",\n",
        "        \"-y\",  # overwrite output file\n",
        "        \"-protocol_whitelist\",\n",
        "        \"file,http,https,tcp,tls,crypto\",\n",
        "        \"-i\",\n",
        "        f\"./tmp/{filename}.m3u8\",\n",
        "        \"-bsf:a\",\n",
        "        \"aac_adtstoasc\",\n",
        "        \"-c\",\n",
        "        \"copy\",\n",
        "        \"-vcodec\",\n",
        "        \"copy\",\n",
        "        \"-crf\",\n",
        "        \"1\",\n",
        "        output,\n",
        "    ]\n",
        "\n",
        "    process = subprocess.Popen(\n",
        "        args, stdout=subprocess.DEVNULL, stderr=subprocess.DEVNULL\n",
        "    )\n",
        "\n",
        "    return process, total_duration"
      ],
      "metadata": {
        "id": "4teYW6WK0tFB",
        "cellView": "form"
      },
      "execution_count": null,
      "outputs": []
    },
    {
      "cell_type": "code",
      "source": [
        "#@title <font size=\"5\">← ឵឵<i>Dowload </font>\n",
        "\n",
        "from pathlib import Path\n",
        "import asyncio\n",
        "import ipywidgets as widgets\n",
        "from typing import Literal\n",
        "from sys import stdout\n",
        "from functools import partial\n",
        "\n",
        "import nest_asyncio\n",
        "\n",
        "nest_asyncio.apply()\n",
        "\n",
        "def check_progression(file: str) -> float | Literal[\"end\"] | None:\n",
        "    if not os.path.exists(file):\n",
        "        return None\n",
        "    with open(file, \"r\") as f:\n",
        "        # Seek to the end of the file\n",
        "        f.seek(0, 2)\n",
        "        end_pos = f.tell()\n",
        "\n",
        "        def analyze_line(line: str) -> float | Literal[\"end\"] | None:\n",
        "            if line.startswith(\"progress=\") and line.endswith(\"end\"):\n",
        "                return \"end\"\n",
        "            if line.startswith(\"out_time_ms=\"):\n",
        "                return float(line.split(\"=\")[1]) / 1_000_000\n",
        "            return None\n",
        "\n",
        "        line: list[str] = []\n",
        "        for pos in range(end_pos - 1, -1, -1):\n",
        "            f.seek(pos, 0)\n",
        "            char = f.read(1)\n",
        "            if char == \"\\n\":\n",
        "                result = analyze_line(\"\".join(reversed(line)))\n",
        "                if result is not None:\n",
        "                    return result\n",
        "                line = []\n",
        "            else:\n",
        "                line.append(char)\n",
        "\n",
        "URL = \"https://deril-fr.github.io/anime/vostfr/17733/episode/6\" #@param {type:\"string\"}\n",
        "QUALITY = \"high\" #@param [\"high\", \"medium\", \"low\"]\n",
        "\n",
        "async def main():\n",
        "    raw_url = URL\n",
        "    ctx = await get_m3u8(raw_url)\n",
        "    qualities = await get_available_qualities(ctx)\n",
        "    options = list(qualities.keys())\n",
        "\n",
        "    options = sorted(list(qualities.keys()), key=lambda x: int(x.split(\"x\")[0]), reverse=True)    \n",
        "    if QUALITY == \"high\":\n",
        "        quality = options[0]\n",
        "    elif QUALITY == \"medium\":\n",
        "        quality = options[len(options) // 2]\n",
        "    elif QUALITY == \"low\":\n",
        "        quality = options[-1]\n",
        "\n",
        "    print(f\"Quality : {quality}\")\n",
        "    print(\"Your download is about to start...\")\n",
        "    path = Path(\"./drive/MyDrive/derildownload\")\n",
        "    path.mkdir(exist_ok=True)\n",
        "    episode_path = path / f\"{ctx.episode_name}.mp4\"\n",
        "    process, duration = await download_form_m3u8(qualities[quality], episode_path)\n",
        "\n",
        "    while process.poll() is None:\n",
        "        await asyncio.sleep(2)\n",
        "        progression = check_progression(\"./tmp/progression.txt\")\n",
        "        if progression == \"end\":\n",
        "            stdout.write(\"\\rDone.\")\n",
        "        elif progression is None or duration is None:\n",
        "            stdout.write(\"\\rIn progress... (no eta)\")\n",
        "        else:\n",
        "            stdout.write(f\"\\rIn progress... ({progression / duration * 100:.2f}%)\")\n",
        "        stdout.flush()\n",
        "\n",
        "asyncio.run(main())"
      ],
      "metadata": {
        "id": "2S_1Cy_Q7utK",
        "colab": {
          "base_uri": "https://localhost:8080/",
          "height": 389
        },
        "outputId": "1b7e3cec-3a9b-4190-e5bd-7e8f4c8cd338",
        "cellView": "form"
      },
      "execution_count": 20,
      "outputs": [
        {
          "output_type": "stream",
          "name": "stdout",
          "text": [
            "Quality : 854x480\n",
            "Your download is about to start...\n"
          ]
        },
        {
          "output_type": "error",
          "ename": "KeyboardInterrupt",
          "evalue": "ignored",
          "traceback": [
            "\u001b[0;31m---------------------------------------------------------------------------\u001b[0m",
            "\u001b[0;31mKeyboardInterrupt\u001b[0m                         Traceback (most recent call last)",
            "\u001b[0;32m<ipython-input-20-55c4a2692fdd>\u001b[0m in \u001b[0;36m<cell line: 76>\u001b[0;34m()\u001b[0m\n\u001b[1;32m     74\u001b[0m         \u001b[0mstdout\u001b[0m\u001b[0;34m.\u001b[0m\u001b[0mflush\u001b[0m\u001b[0;34m(\u001b[0m\u001b[0;34m)\u001b[0m\u001b[0;34m\u001b[0m\u001b[0;34m\u001b[0m\u001b[0m\n\u001b[1;32m     75\u001b[0m \u001b[0;34m\u001b[0m\u001b[0m\n\u001b[0;32m---> 76\u001b[0;31m \u001b[0masyncio\u001b[0m\u001b[0;34m.\u001b[0m\u001b[0mrun\u001b[0m\u001b[0;34m(\u001b[0m\u001b[0mmain\u001b[0m\u001b[0;34m(\u001b[0m\u001b[0;34m)\u001b[0m\u001b[0;34m)\u001b[0m\u001b[0;34m\u001b[0m\u001b[0;34m\u001b[0m\u001b[0m\n\u001b[0m",
            "\u001b[0;32m/usr/local/lib/python3.10/dist-packages/nest_asyncio.py\u001b[0m in \u001b[0;36mrun\u001b[0;34m(main, debug)\u001b[0m\n\u001b[1;32m     33\u001b[0m         \u001b[0mtask\u001b[0m \u001b[0;34m=\u001b[0m \u001b[0masyncio\u001b[0m\u001b[0;34m.\u001b[0m\u001b[0mensure_future\u001b[0m\u001b[0;34m(\u001b[0m\u001b[0mmain\u001b[0m\u001b[0;34m)\u001b[0m\u001b[0;34m\u001b[0m\u001b[0;34m\u001b[0m\u001b[0m\n\u001b[1;32m     34\u001b[0m         \u001b[0;32mtry\u001b[0m\u001b[0;34m:\u001b[0m\u001b[0;34m\u001b[0m\u001b[0;34m\u001b[0m\u001b[0m\n\u001b[0;32m---> 35\u001b[0;31m             \u001b[0;32mreturn\u001b[0m \u001b[0mloop\u001b[0m\u001b[0;34m.\u001b[0m\u001b[0mrun_until_complete\u001b[0m\u001b[0;34m(\u001b[0m\u001b[0mtask\u001b[0m\u001b[0;34m)\u001b[0m\u001b[0;34m\u001b[0m\u001b[0;34m\u001b[0m\u001b[0m\n\u001b[0m\u001b[1;32m     36\u001b[0m         \u001b[0;32mfinally\u001b[0m\u001b[0;34m:\u001b[0m\u001b[0;34m\u001b[0m\u001b[0;34m\u001b[0m\u001b[0m\n\u001b[1;32m     37\u001b[0m             \u001b[0;32mif\u001b[0m \u001b[0;32mnot\u001b[0m \u001b[0mtask\u001b[0m\u001b[0;34m.\u001b[0m\u001b[0mdone\u001b[0m\u001b[0;34m(\u001b[0m\u001b[0;34m)\u001b[0m\u001b[0;34m:\u001b[0m\u001b[0;34m\u001b[0m\u001b[0;34m\u001b[0m\u001b[0m\n",
            "\u001b[0;32m/usr/local/lib/python3.10/dist-packages/nest_asyncio.py\u001b[0m in \u001b[0;36mrun_until_complete\u001b[0;34m(self, future)\u001b[0m\n\u001b[1;32m     82\u001b[0m                 \u001b[0mf\u001b[0m\u001b[0;34m.\u001b[0m\u001b[0m_log_destroy_pending\u001b[0m \u001b[0;34m=\u001b[0m \u001b[0;32mFalse\u001b[0m\u001b[0;34m\u001b[0m\u001b[0;34m\u001b[0m\u001b[0m\n\u001b[1;32m     83\u001b[0m             \u001b[0;32mwhile\u001b[0m \u001b[0;32mnot\u001b[0m \u001b[0mf\u001b[0m\u001b[0;34m.\u001b[0m\u001b[0mdone\u001b[0m\u001b[0;34m(\u001b[0m\u001b[0;34m)\u001b[0m\u001b[0;34m:\u001b[0m\u001b[0;34m\u001b[0m\u001b[0;34m\u001b[0m\u001b[0m\n\u001b[0;32m---> 84\u001b[0;31m                 \u001b[0mself\u001b[0m\u001b[0;34m.\u001b[0m\u001b[0m_run_once\u001b[0m\u001b[0;34m(\u001b[0m\u001b[0;34m)\u001b[0m\u001b[0;34m\u001b[0m\u001b[0;34m\u001b[0m\u001b[0m\n\u001b[0m\u001b[1;32m     85\u001b[0m                 \u001b[0;32mif\u001b[0m \u001b[0mself\u001b[0m\u001b[0;34m.\u001b[0m\u001b[0m_stopping\u001b[0m\u001b[0;34m:\u001b[0m\u001b[0;34m\u001b[0m\u001b[0;34m\u001b[0m\u001b[0m\n\u001b[1;32m     86\u001b[0m                     \u001b[0;32mbreak\u001b[0m\u001b[0;34m\u001b[0m\u001b[0;34m\u001b[0m\u001b[0m\n",
            "\u001b[0;32m/usr/local/lib/python3.10/dist-packages/nest_asyncio.py\u001b[0m in \u001b[0;36m_run_once\u001b[0;34m(self)\u001b[0m\n\u001b[1;32m    105\u001b[0m                 scheduled[0]._when - self.time(), 0), 86400) if scheduled\n\u001b[1;32m    106\u001b[0m             else None)\n\u001b[0;32m--> 107\u001b[0;31m         \u001b[0mevent_list\u001b[0m \u001b[0;34m=\u001b[0m \u001b[0mself\u001b[0m\u001b[0;34m.\u001b[0m\u001b[0m_selector\u001b[0m\u001b[0;34m.\u001b[0m\u001b[0mselect\u001b[0m\u001b[0;34m(\u001b[0m\u001b[0mtimeout\u001b[0m\u001b[0;34m)\u001b[0m\u001b[0;34m\u001b[0m\u001b[0;34m\u001b[0m\u001b[0m\n\u001b[0m\u001b[1;32m    108\u001b[0m         \u001b[0mself\u001b[0m\u001b[0;34m.\u001b[0m\u001b[0m_process_events\u001b[0m\u001b[0;34m(\u001b[0m\u001b[0mevent_list\u001b[0m\u001b[0;34m)\u001b[0m\u001b[0;34m\u001b[0m\u001b[0;34m\u001b[0m\u001b[0m\n\u001b[1;32m    109\u001b[0m \u001b[0;34m\u001b[0m\u001b[0m\n",
            "\u001b[0;32m/usr/lib/python3.10/selectors.py\u001b[0m in \u001b[0;36mselect\u001b[0;34m(self, timeout)\u001b[0m\n\u001b[1;32m    467\u001b[0m             \u001b[0mready\u001b[0m \u001b[0;34m=\u001b[0m \u001b[0;34m[\u001b[0m\u001b[0;34m]\u001b[0m\u001b[0;34m\u001b[0m\u001b[0;34m\u001b[0m\u001b[0m\n\u001b[1;32m    468\u001b[0m             \u001b[0;32mtry\u001b[0m\u001b[0;34m:\u001b[0m\u001b[0;34m\u001b[0m\u001b[0;34m\u001b[0m\u001b[0m\n\u001b[0;32m--> 469\u001b[0;31m                 \u001b[0mfd_event_list\u001b[0m \u001b[0;34m=\u001b[0m \u001b[0mself\u001b[0m\u001b[0;34m.\u001b[0m\u001b[0m_selector\u001b[0m\u001b[0;34m.\u001b[0m\u001b[0mpoll\u001b[0m\u001b[0;34m(\u001b[0m\u001b[0mtimeout\u001b[0m\u001b[0;34m,\u001b[0m \u001b[0mmax_ev\u001b[0m\u001b[0;34m)\u001b[0m\u001b[0;34m\u001b[0m\u001b[0;34m\u001b[0m\u001b[0m\n\u001b[0m\u001b[1;32m    470\u001b[0m             \u001b[0;32mexcept\u001b[0m \u001b[0mInterruptedError\u001b[0m\u001b[0;34m:\u001b[0m\u001b[0;34m\u001b[0m\u001b[0;34m\u001b[0m\u001b[0m\n\u001b[1;32m    471\u001b[0m                 \u001b[0;32mreturn\u001b[0m \u001b[0mready\u001b[0m\u001b[0;34m\u001b[0m\u001b[0;34m\u001b[0m\u001b[0m\n",
            "\u001b[0;31mKeyboardInterrupt\u001b[0m: "
          ]
        }
      ]
    }
  ]
}